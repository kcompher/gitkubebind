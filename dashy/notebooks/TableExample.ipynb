{
 "cells": [
  {
   "cell_type": "code",
   "execution_count": 1,
   "metadata": {},
   "outputs": [],
   "source": [
    "import dash\n",
    "from dash.dependencies import Input, Output, State\n",
    "import dash_core_components as dcc\n",
    "import dash_html_components as html\n",
    "import dash_table_experiments as dt\n",
    "import json\n",
    "import pandas as pd\n",
    "import numpy as np\n",
    "import plotly\n",
    "from IPython import display\n",
    "import os\n",
    "def show_app(app, port = 9999, \n",
    "             width = 700, \n",
    "             height = 350, \n",
    "             offline = False,\n",
    "            in_binder = None):\n",
    "    in_binder ='JUPYTERHUB_SERVICE_PREFIX' in os.environ if in_binder is None else in_binder\n",
    "    if in_binder:\n",
    "        base_prefix = '{}proxy/{}/'.format(os.environ['JUPYTERHUB_SERVICE_PREFIX'], port)\n",
    "        url = 'https://hub.mybinder.org{}'.format(base_prefix)\n",
    "        app.config.requests_pathname_prefix = base_prefix\n",
    "    else:\n",
    "        url = 'http://localhost:%d' % port\n",
    "        \n",
    "    iframe = '<a href=\"{url}\" target=\"_new\">Open in new window</a><hr><iframe src=\"{url}\" width={width} height={height}></iframe>'.format(url = url, \n",
    "                                                                                  width = width, \n",
    "                                                                                  height = height)\n",
    "    \n",
    "    display.display_html(iframe, raw = True)\n",
    "    if offline:\n",
    "        app.css.config.serve_locally = True\n",
    "        app.scripts.config.serve_locally = True\n",
    "    return app.run_server(debug=False, # needs to be false in Jupyter\n",
    "                          host = '0.0.0.0',\n",
    "                          port=port)"
   ]
  },
  {
   "cell_type": "code",
   "execution_count": 2,
   "metadata": {},
   "outputs": [],
   "source": [
    "app = dash.Dash()\n",
    "\n",
    "\n",
    "DF_WALMART = pd.read_csv('https://raw.githubusercontent.com/plotly/datasets/master/1962_2006_walmart_store_openings.csv')\n",
    "\n",
    "DF_GAPMINDER = pd.read_csv(\n",
    "    'https://raw.githubusercontent.com/plotly/datasets/master/gapminderDataFiveYear.csv'\n",
    ")\n",
    "DF_GAPMINDER = DF_GAPMINDER[DF_GAPMINDER['year'] == 2007]\n",
    "DF_GAPMINDER.loc[0:20]\n",
    "\n",
    "DF_SIMPLE = pd.DataFrame({\n",
    "    'x': ['A', 'B', 'C', 'D', 'E', 'F'],\n",
    "    'y': [4, 3, 1, 2, 3, 6],\n",
    "    'z': ['a', 'b', 'c', 'a', 'b', 'c']\n",
    "})\n",
    "\n",
    "ROWS = [\n",
    "    {'a': 'AA', 'b': 1},\n",
    "    {'a': 'AB', 'b': 2},\n",
    "    {'a': 'BB', 'b': 3},\n",
    "    {'a': 'BC', 'b': 4},\n",
    "    {'a': 'CC', 'b': 5},\n",
    "    {'a': 'CD', 'b': 6}\n",
    "]\n",
    "\n",
    "\n",
    "app.layout = html.Div([\n",
    "    html.H4('Gapminder DataTable'),\n",
    "    dt.DataTable(\n",
    "        rows=DF_GAPMINDER.to_dict('records'),\n",
    "\n",
    "        # optional - sets the order of columns\n",
    "        columns=sorted(DF_GAPMINDER.columns),\n",
    "\n",
    "        row_selectable=True,\n",
    "        filterable=True,\n",
    "        sortable=True,\n",
    "        selected_row_indices=[],\n",
    "        id='datatable-gapminder'\n",
    "    ),\n",
    "    html.Div(id='selected-indexes'),\n",
    "    dcc.Graph(\n",
    "        id='graph-gapminder'\n",
    "    ),\n",
    "], className=\"container\")\n",
    "\n",
    "\n",
    "@app.callback(\n",
    "    Output('datatable-gapminder', 'selected_row_indices'),\n",
    "    [Input('graph-gapminder', 'clickData')],\n",
    "    [State('datatable-gapminder', 'selected_row_indices')])\n",
    "def update_selected_row_indices(clickData, selected_row_indices):\n",
    "    if clickData:\n",
    "        for point in clickData['points']:\n",
    "            if point['pointNumber'] in selected_row_indices:\n",
    "                selected_row_indices.remove(point['pointNumber'])\n",
    "            else:\n",
    "                selected_row_indices.append(point['pointNumber'])\n",
    "    return selected_row_indices\n",
    "\n",
    "\n",
    "@app.callback(\n",
    "    Output('graph-gapminder', 'figure'),\n",
    "    [Input('datatable-gapminder', 'rows'),\n",
    "     Input('datatable-gapminder', 'selected_row_indices')])\n",
    "def update_figure(rows, selected_row_indices):\n",
    "    dff = pd.DataFrame(rows)\n",
    "    fig = plotly.tools.make_subplots(\n",
    "        rows=3, cols=1,\n",
    "        subplot_titles=('Life Expectancy', 'GDP Per Capita', 'Population',),\n",
    "        shared_xaxes=True)\n",
    "    marker = {'color': ['#0074D9']*len(dff)}\n",
    "    for i in (selected_row_indices or []):\n",
    "        marker['color'][i] = '#FF851B'\n",
    "    fig.append_trace({\n",
    "        'x': dff['country'],\n",
    "        'y': dff['lifeExp'],\n",
    "        'type': 'bar',\n",
    "        'marker': marker\n",
    "    }, 1, 1)\n",
    "    fig.append_trace({\n",
    "        'x': dff['country'],\n",
    "        'y': dff['gdpPercap'],\n",
    "        'type': 'bar',\n",
    "        'marker': marker\n",
    "    }, 2, 1)\n",
    "    fig.append_trace({\n",
    "        'x': dff['country'],\n",
    "        'y': dff['pop'],\n",
    "        'type': 'bar',\n",
    "        'marker': marker\n",
    "    }, 3, 1)\n",
    "    fig['layout']['showlegend'] = False\n",
    "    fig['layout']['height'] = 800\n",
    "    fig['layout']['margin'] = {\n",
    "        'l': 40,\n",
    "        'r': 10,\n",
    "        't': 60,\n",
    "        'b': 200\n",
    "    }\n",
    "    fig['layout']['yaxis3']['type'] = 'log'\n",
    "    return fig\n",
    "\n",
    "\n",
    "app.css.append_css({\n",
    "    'external_url': 'https://codepen.io/chriddyp/pen/bWLwgP.css'\n",
    "})"
   ]
  },
  {
   "cell_type": "code",
   "execution_count": 3,
   "metadata": {},
   "outputs": [
    {
     "data": {
      "text/html": [
       "<a href=\"https://hub.mybinder.org/user/4quantoss-dashintro-pw4hacw7/proxy/9999/\" target=\"_new\">Open in new window</a><hr><iframe src=\"https://hub.mybinder.org/user/4quantoss-dashintro-pw4hacw7/proxy/9999/\" width=700 height=350></iframe>"
      ]
     },
     "metadata": {},
     "output_type": "display_data"
    },
    {
     "name": "stderr",
     "output_type": "stream",
     "text": [
      " * Running on http://0.0.0.0:9999/ (Press CTRL+C to quit)\n",
      "127.0.0.1 - - [25/Feb/2018 14:09:47] \"GET / HTTP/1.1\" 200 -\n",
      "127.0.0.1 - - [25/Feb/2018 14:09:48] \"GET /_dash-layout HTTP/1.1\" 200 -\n",
      "127.0.0.1 - - [25/Feb/2018 14:09:48] \"GET /_dash-dependencies HTTP/1.1\" 200 -\n",
      "127.0.0.1 - - [25/Feb/2018 14:09:48] \"POST /_dash-update-component HTTP/1.1\" 200 -\n",
      "127.0.0.1 - - [25/Feb/2018 14:09:49] \"POST /_dash-update-component HTTP/1.1\" 200 -\n"
     ]
    },
    {
     "name": "stdout",
     "output_type": "stream",
     "text": [
      "This is the format of your plot grid:\n",
      "[ (1,1) x1,y1 ]\n",
      "[ (2,1) x1,y2 ]\n",
      "[ (3,1) x1,y3 ]\n",
      "\n"
     ]
    },
    {
     "name": "stderr",
     "output_type": "stream",
     "text": [
      "127.0.0.1 - - [25/Feb/2018 14:09:52] \"GET / HTTP/1.1\" 200 -\n",
      "127.0.0.1 - - [25/Feb/2018 14:09:53] \"GET /_dash-dependencies HTTP/1.1\" 200 -\n",
      "127.0.0.1 - - [25/Feb/2018 14:09:53] \"GET /_dash-layout HTTP/1.1\" 200 -\n",
      "127.0.0.1 - - [25/Feb/2018 14:09:53] \"POST /_dash-update-component HTTP/1.1\" 200 -\n",
      "127.0.0.1 - - [25/Feb/2018 14:09:54] \"POST /_dash-update-component HTTP/1.1\" 200 -\n"
     ]
    },
    {
     "name": "stdout",
     "output_type": "stream",
     "text": [
      "This is the format of your plot grid:\n",
      "[ (1,1) x1,y1 ]\n",
      "[ (2,1) x1,y2 ]\n",
      "[ (3,1) x1,y3 ]\n",
      "\n"
     ]
    },
    {
     "name": "stderr",
     "output_type": "stream",
     "text": [
      "127.0.0.1 - - [25/Feb/2018 14:09:55] \"POST /_dash-update-component HTTP/1.1\" 200 -\n"
     ]
    },
    {
     "name": "stdout",
     "output_type": "stream",
     "text": [
      "This is the format of your plot grid:\n",
      "[ (1,1) x1,y1 ]\n",
      "[ (2,1) x1,y2 ]\n",
      "[ (3,1) x1,y3 ]\n",
      "\n"
     ]
    },
    {
     "name": "stderr",
     "output_type": "stream",
     "text": [
      "127.0.0.1 - - [25/Feb/2018 14:10:01] \"POST /_dash-update-component HTTP/1.1\" 200 -\n"
     ]
    },
    {
     "name": "stdout",
     "output_type": "stream",
     "text": [
      "This is the format of your plot grid:\n",
      "[ (1,1) x1,y1 ]\n",
      "[ (2,1) x1,y2 ]\n",
      "[ (3,1) x1,y3 ]\n",
      "\n"
     ]
    }
   ],
   "source": [
    "show_app(app)"
   ]
  }
 ],
 "metadata": {
  "kernelspec": {
   "display_name": "Python 3",
   "language": "python",
   "name": "python3"
  },
  "language_info": {
   "codemirror_mode": {
    "name": "ipython",
    "version": 3
   },
   "file_extension": ".py",
   "mimetype": "text/x-python",
   "name": "python",
   "nbconvert_exporter": "python",
   "pygments_lexer": "ipython3",
   "version": "3.6.4"
  }
 },
 "nbformat": 4,
 "nbformat_minor": 2
}
