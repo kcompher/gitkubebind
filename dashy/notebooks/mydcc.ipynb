{
 "cells": [
  {
   "cell_type": "code",
   "execution_count": null,
   "metadata": {},
   "outputs": [],
   "source": [
    "!pip install git+https://github.com/jimmybow/mydcc"
   ]
  },
  {
   "cell_type": "code",
   "execution_count": 1,
   "metadata": {},
   "outputs": [],
   "source": [
    "from IPython import display\n",
    "import os\n",
    "def show_app(app, port = 1234, \n",
    "             width = 700, \n",
    "             height = 700, \n",
    "             offline = False,\n",
    "            in_binder = None):\n",
    "    in_binder ='JUPYTERHUB_SERVICE_PREFIX' in os.environ if in_binder is None else in_binder\n",
    "    if in_binder:\n",
    "        base_prefix = '{}proxy/{}/'.format(os.environ['JUPYTERHUB_SERVICE_PREFIX'], port)\n",
    "        url = 'https://hub.mybinder.org{}'.format(base_prefix)\n",
    "        app.config.requests_pathname_prefix = base_prefix\n",
    "    else:\n",
    "        url = 'http://localhost:%d' % port\n",
    "        \n",
    "    iframe = '<a href=\"{url}\" target=\"_new\">Open in new window</a><hr><iframe src=\"{url}\" width={width} height={height}></iframe>'.format(url = url, \n",
    "                                                                                  width = width, \n",
    "                                                                                  height = height)\n",
    "    \n",
    "    display.display_html(iframe, raw = True)\n",
    "    if offline:\n",
    "        app.css.config.serve_locally = True\n",
    "        app.scripts.config.serve_locally = True\n",
    "    return app.run_server(debug=False, # needs to be false in Jupyter\n",
    "                          host = '0.0.0.0',\n",
    "                          port=port)"
   ]
  },
  {
   "cell_type": "code",
   "execution_count": 5,
   "metadata": {},
   "outputs": [],
   "source": [
    "import dash\n",
    "import dash_core_components as dcc\n",
    "import dash_html_components as html\n",
    "from dash.dependencies import Input, Output, Event, State\n",
    "import mydcc"
   ]
  },
  {
   "cell_type": "code",
   "execution_count": 7,
   "metadata": {},
   "outputs": [],
   "source": [
    "app = dash.Dash()\n",
    "app.layout = html.Div([\n",
    "    mydcc.Listener( id = \"uuu\", aim = 'graph' ),\n",
    "    dcc.Graph( id = 'graph',\n",
    "               figure = { 'data': [  {'x': [1, 2, 3], 'y': [4, 1, 2]}  ]  }\n",
    "              ),\n",
    "    html.Div( id = 'text' )\n",
    "])\n",
    "\n",
    "@app.callback(\n",
    "    Output('text', 'children'),\n",
    "    [Input('uuu', 'data')])\n",
    "def myfun(ddd):\n",
    "    if ddd is None : return('')\n",
    "    else: return( str(ddd['x']) + ' and ' + str(ddd['y'])  )"
   ]
  },
  {
   "cell_type": "code",
   "execution_count": 8,
   "metadata": {},
   "outputs": [
    {
     "data": {
      "text/html": [
       "<a href=\"https://hub.mybinder.org/user/4quantoss-dashintro-po6c9gag/proxy/1234/\" target=\"_new\">Open in new window</a><hr><iframe src=\"https://hub.mybinder.org/user/4quantoss-dashintro-po6c9gag/proxy/1234/\" width=700 height=700></iframe>"
      ]
     },
     "metadata": {},
     "output_type": "display_data"
    },
    {
     "name": "stderr",
     "output_type": "stream",
     "text": [
      " * Running on http://0.0.0.0:1234/ (Press CTRL+C to quit)\n",
      "127.0.0.1 - - [25/Feb/2018 14:51:07] \"GET / HTTP/1.1\" 200 -\n",
      "127.0.0.1 - - [25/Feb/2018 14:51:08] \"GET /_dash-dependencies HTTP/1.1\" 200 -\n",
      "127.0.0.1 - - [25/Feb/2018 14:51:08] \"GET /_dash-layout HTTP/1.1\" 200 -\n",
      "127.0.0.1 - - [25/Feb/2018 14:51:08] \"POST /_dash-update-component HTTP/1.1\" 200 -\n",
      "127.0.0.1 - - [25/Feb/2018 14:51:12] \"GET / HTTP/1.1\" 200 -\n",
      "127.0.0.1 - - [25/Feb/2018 14:51:14] \"GET /_dash-layout HTTP/1.1\" 200 -\n",
      "127.0.0.1 - - [25/Feb/2018 14:51:14] \"GET /_dash-dependencies HTTP/1.1\" 200 -\n",
      "127.0.0.1 - - [25/Feb/2018 14:51:14] \"POST /_dash-update-component HTTP/1.1\" 200 -\n"
     ]
    }
   ],
   "source": [
    "app.css.config.serve_locally = False\n",
    "app.scripts.config.serve_locally = False\n",
    "show_app(app)"
   ]
  },
  {
   "cell_type": "code",
   "execution_count": 9,
   "metadata": {},
   "outputs": [
    {
     "data": {
      "text/plain": [
       "[{'external_url': 'https://unpkg.com/dash-html-components@0.9.0/dash_html_components/bundle.js',\n",
       "  'namespace': 'dash_html_components'},\n",
       " {'namespace': 'mydcc', 'relative_package_path': 'bundle.js'},\n",
       " {'external_url': 'https://cdn.plot.ly/plotly-1.33.1.min.js',\n",
       "  'namespace': 'dash_core_components'},\n",
       " {'external_url': 'https://unpkg.com/dash-core-components@0.18.1/dash_core_components/bundle.js',\n",
       "  'namespace': 'dash_core_components'}]"
      ]
     },
     "execution_count": 9,
     "metadata": {},
     "output_type": "execute_result"
    }
   ],
   "source": [
    "app.scripts.get_all_scripts()"
   ]
  },
  {
   "cell_type": "code",
   "execution_count": null,
   "metadata": {},
   "outputs": [],
   "source": []
  }
 ],
 "metadata": {
  "kernelspec": {
   "display_name": "Python 3",
   "language": "python",
   "name": "python3"
  },
  "language_info": {
   "codemirror_mode": {
    "name": "ipython",
    "version": 3
   },
   "file_extension": ".py",
   "mimetype": "text/x-python",
   "name": "python",
   "nbconvert_exporter": "python",
   "pygments_lexer": "ipython3",
   "version": "3.6.4"
  }
 },
 "nbformat": 4,
 "nbformat_minor": 2
}
