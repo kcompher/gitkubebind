{
 "cells": [
  {
   "cell_type": "code",
   "execution_count": 3,
   "metadata": {},
   "outputs": [],
   "source": [
    "from IPython import display\n",
    "import os\n",
    "def show_app(app, port = 9999, \n",
    "             width = 700, \n",
    "             height = 350, \n",
    "             offline = False,\n",
    "            in_binder = None):\n",
    "    in_binder ='JUPYTERHUB_SERVICE_PREFIX' in os.environ if in_binder is None else in_binder\n",
    "    if in_binder:\n",
    "        base_prefix = '{}proxy/{}/'.format(os.environ['JUPYTERHUB_SERVICE_PREFIX'], port)\n",
    "        url = 'https://hub.mybinder.org{}'.format(base_prefix)\n",
    "        app.config.requests_pathname_prefix = base_prefix\n",
    "    else:\n",
    "        url = 'http://localhost:%d' % port\n",
    "        \n",
    "    iframe = '<a href=\"{url}\" target=\"_new\">Open in new window</a><hr><iframe src=\"{url}\" width={width} height={height}></iframe>'.format(url = url, \n",
    "                                                                                  width = width, \n",
    "                                                                                  height = height)\n",
    "    \n",
    "    display.display_html(iframe, raw = True)\n",
    "    if offline:\n",
    "        app.css.config.serve_locally = True\n",
    "        app.scripts.config.serve_locally = True\n",
    "    return app.run_server(debug=False, # needs to be false in Jupyter\n",
    "                          host = '0.0.0.0',\n",
    "                          port=port)"
   ]
  },
  {
   "cell_type": "code",
   "execution_count": 6,
   "metadata": {},
   "outputs": [],
   "source": [
    "import dash_colorscales\n",
    "import dash\n",
    "import dash_html_components as html\n",
    "import json\n",
    "\n",
    "app = dash.Dash('')\n",
    "\n",
    "app.scripts.config.serve_locally = False\n",
    "\n",
    "app.layout = html.Div([\n",
    "    dash_colorscales.DashColorscales(\n",
    "        id='colorscale-picker',\n",
    "        nSwatches=7,\n",
    "        fixSwatches=True\n",
    "    ),\n",
    "    html.P(id='output', children='')\n",
    "])\n",
    "\n",
    "@app.callback(\n",
    "        dash.dependencies.Output('output', 'children'),\n",
    "        [dash.dependencies.Input('colorscale-picker', 'colorscale')])\n",
    "def display_output(colorscale):\n",
    "    return json.dumps(colorscale)"
   ]
  },
  {
   "cell_type": "code",
   "execution_count": 7,
   "metadata": {
    "scrolled": true
   },
   "outputs": [
    {
     "data": {
      "text/html": [
       "<a href=\"https://hub.mybinder.org/user/4quantoss-dashintro-pw4hacw7/proxy/9999/\" target=\"_new\">Open in new window</a><hr><iframe src=\"https://hub.mybinder.org/user/4quantoss-dashintro-pw4hacw7/proxy/9999/\" width=700 height=350></iframe>"
      ]
     },
     "metadata": {},
     "output_type": "display_data"
    },
    {
     "name": "stderr",
     "output_type": "stream",
     "text": [
      " * Running on http://0.0.0.0:9999/ (Press CTRL+C to quit)\n",
      "127.0.0.1 - - [25/Feb/2018 14:16:22] \"GET / HTTP/1.1\" 200 -\n",
      "127.0.0.1 - - [25/Feb/2018 14:16:23] \"GET /_dash-dependencies HTTP/1.1\" 200 -\n",
      "127.0.0.1 - - [25/Feb/2018 14:16:23] \"GET /_dash-layout HTTP/1.1\" 200 -\n",
      "127.0.0.1 - - [25/Feb/2018 14:16:24] \"POST /_dash-update-component HTTP/1.1\" 200 -\n",
      "127.0.0.1 - - [25/Feb/2018 14:16:27] \"POST /_dash-update-component HTTP/1.1\" 200 -\n",
      "127.0.0.1 - - [25/Feb/2018 14:16:28] \"POST /_dash-update-component HTTP/1.1\" 200 -\n"
     ]
    }
   ],
   "source": [
    "show_app(app)"
   ]
  },
  {
   "cell_type": "code",
   "execution_count": null,
   "metadata": {},
   "outputs": [],
   "source": []
  }
 ],
 "metadata": {
  "kernelspec": {
   "display_name": "Python 3",
   "language": "python",
   "name": "python3"
  },
  "language_info": {
   "codemirror_mode": {
    "name": "ipython",
    "version": 3
   },
   "file_extension": ".py",
   "mimetype": "text/x-python",
   "name": "python",
   "nbconvert_exporter": "python",
   "pygments_lexer": "ipython3",
   "version": "3.6.4"
  }
 },
 "nbformat": 4,
 "nbformat_minor": 2
}
