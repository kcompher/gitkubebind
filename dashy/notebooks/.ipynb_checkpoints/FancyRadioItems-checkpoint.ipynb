{
 "cells": [
  {
   "cell_type": "code",
   "execution_count": 1,
   "metadata": {},
   "outputs": [],
   "source": [
    "from IPython import display\n",
    "import os\n",
    "def show_app(app, port = 9999, \n",
    "             width = 700, \n",
    "             height = 350, \n",
    "             offline = False,\n",
    "            in_binder = None):\n",
    "    in_binder ='JUPYTERHUB_SERVICE_PREFIX' in os.environ if in_binder is None else in_binder\n",
    "    if in_binder:\n",
    "        base_prefix = '{}proxy/{}/'.format(os.environ['JUPYTERHUB_SERVICE_PREFIX'], port)\n",
    "        url = 'https://hub.mybinder.org{}'.format(base_prefix)\n",
    "        app.config.requests_pathname_prefix = base_prefix\n",
    "    else:\n",
    "        url = 'http://localhost:%d' % port\n",
    "        \n",
    "    iframe = '<a href=\"{url}\" target=\"_new\">Open in new window</a><hr><iframe src=\"{url}\" width={width} height={height}></iframe>'.format(url = url, \n",
    "                                                                                  width = width, \n",
    "                                                                                  height = height)\n",
    "    \n",
    "    display.display_html(iframe, raw = True)\n",
    "    if offline:\n",
    "        app.css.config.serve_locally = True\n",
    "        app.scripts.config.serve_locally = True\n",
    "    return app.run_server(debug=False, # needs to be false in Jupyter\n",
    "                          host = '0.0.0.0',\n",
    "                          port=port)"
   ]
  },
  {
   "cell_type": "code",
   "execution_count": 2,
   "metadata": {},
   "outputs": [],
   "source": [
    "import dash\n",
    "import dash_core_components as dcc\n",
    "import dash_html_components as html\n",
    "from plotly import graph_objs as go\n",
    "from dash.dependencies import Input, Output"
   ]
  },
  {
   "cell_type": "code",
   "execution_count": 3,
   "metadata": {},
   "outputs": [],
   "source": [
    "test_dash_app = dash.Dash(__name__, url_base_pathname='/', csrf_protect=False)\n",
    "test_dash_app.layout = html.Div([dcc.RadioItems(id='item_list', \n",
    "                                                options = [dict(label = k, value = k) for k in ['Hey', 'Bob']]), \n",
    "                                 dcc.RadioItems(id='subitem_list', value = [])])\n",
    "@test_dash_app.callback(\n",
    "    Output(component_id='subitem_list', component_property='options'),\n",
    "    [Input(component_id='item_list', component_property='value')]\n",
    ")\n",
    "def update_lesion_list(selected_idx):\n",
    "    return [{'label':  '<img src=\"https://dummyimage.com/%i.jpg\">hey</img>' % (100+i), 'value': i} for i, lab_name in enumerate('abcde')]\n"
   ]
  },
  {
   "cell_type": "code",
   "execution_count": 4,
   "metadata": {
    "scrolled": true
   },
   "outputs": [
    {
     "data": {
      "text/html": [
       "<a href=\"https://hub.mybinder.org/user/4quantoss-dashintro-fjmz4r41/proxy/9999/\" target=\"_new\">Open in new window</a><hr><iframe src=\"https://hub.mybinder.org/user/4quantoss-dashintro-fjmz4r41/proxy/9999/\" width=700 height=350></iframe>"
      ]
     },
     "metadata": {},
     "output_type": "display_data"
    },
    {
     "name": "stderr",
     "output_type": "stream",
     "text": [
      " * Running on http://0.0.0.0:9999/ (Press CTRL+C to quit)\n",
      "127.0.0.1 - - [23/Feb/2018 15:31:56] \"GET / HTTP/1.1\" 200 -\n",
      "127.0.0.1 - - [23/Feb/2018 15:31:56] \"GET /_dash-dependencies HTTP/1.1\" 200 -\n",
      "127.0.0.1 - - [23/Feb/2018 15:31:56] \"GET /_dash-layout HTTP/1.1\" 200 -\n",
      "127.0.0.1 - - [23/Feb/2018 15:31:57] \"POST /_dash-update-component HTTP/1.1\" 200 -\n",
      "127.0.0.1 - - [23/Feb/2018 15:32:05] \"POST /_dash-update-component HTTP/1.1\" 200 -\n",
      "127.0.0.1 - - [23/Feb/2018 15:32:05] \"POST /_dash-update-component HTTP/1.1\" 200 -\n"
     ]
    }
   ],
   "source": [
    "show_app(test_dash_app)"
   ]
  },
  {
   "cell_type": "code",
   "execution_count": null,
   "metadata": {},
   "outputs": [],
   "source": []
  },
  {
   "cell_type": "code",
   "execution_count": 5,
   "metadata": {},
   "outputs": [],
   "source": [
    "test_dash_app = dash.Dash(__name__, url_base_pathname='/', csrf_protect=False)\n",
    "test_dash_app.layout = html.Div([dcc.RadioItems(id='item_list', \n",
    "                                                options = [dict(label = k, value = k) for k in ['Hey', 'Bob']]), \n",
    "                                 html.Div(id='button_list')])\n",
    "@test_dash_app.callback(\n",
    "    Output(component_id='button_list', component_property='children'),\n",
    "    [Input(component_id='item_list', component_property='value')]\n",
    ")\n",
    "def update_button_list(selected_idx):\n",
    "    if selected_idx is not None:\n",
    "        return [html.Button('Hey %04d' % (i), id = 'id_%s_%04d' % (selected_idx, i)) for i in range(4)]"
   ]
  },
  {
   "cell_type": "code",
   "execution_count": null,
   "metadata": {},
   "outputs": [
    {
     "data": {
      "text/html": [
       "<a href=\"https://hub.mybinder.org/user/4quantoss-dashintro-fjmz4r41/proxy/9999/\" target=\"_new\">Open in new window</a><hr><iframe src=\"https://hub.mybinder.org/user/4quantoss-dashintro-fjmz4r41/proxy/9999/\" width=700 height=350></iframe>"
      ]
     },
     "metadata": {},
     "output_type": "display_data"
    },
    {
     "name": "stderr",
     "output_type": "stream",
     "text": [
      " * Running on http://0.0.0.0:9999/ (Press CTRL+C to quit)\n",
      "127.0.0.1 - - [23/Feb/2018 15:32:07] \"GET / HTTP/1.1\" 200 -\n",
      "127.0.0.1 - - [23/Feb/2018 15:32:08] \"GET /_dash-dependencies HTTP/1.1\" 200 -\n",
      "127.0.0.1 - - [23/Feb/2018 15:32:08] \"GET /_dash-layout HTTP/1.1\" 200 -\n",
      "127.0.0.1 - - [23/Feb/2018 15:32:08] \"POST /_dash-update-component HTTP/1.1\" 200 -\n"
     ]
    }
   ],
   "source": [
    "show_app(test_dash_app)"
   ]
  },
  {
   "cell_type": "code",
   "execution_count": null,
   "metadata": {},
   "outputs": [],
   "source": [
    "test_dash_app = dash.Dash(__name__, url_base_pathname='/', csrf_protect=False)\n",
    "test_dash_app.layout = html.Div([dcc.RadioItems(id='item_list', \n",
    "                                                options = [dict(label = k, value = k) for k in ['Hey', 'Bob']]), \n",
    "                                 html.Div(id='button_list')])\n",
    "\n",
    "def fancy_button_adder(*args):\n",
    "    return [html.P(y) for arg in args]\n",
    "\n",
    "@test_dash_app.callback(\n",
    "    Output(component_id='button_list', component_property='children'),\n",
    "    [Input(component_id='item_list', component_property='value')]\n",
    ")\n",
    "def update_button_list(selected_idx):\n",
    "    if selected_idx is not None:\n",
    "        out_id = 'div_%s' % selected_idx\n",
    "        out_obj_list = [html.Div('ClickOutputs',id = out_id)]\n",
    "        out_dep_obj = Output(component_id= 'click_msg', component_property='children')\n",
    "        in_dep_obj = []\n",
    "        for i in range(4):\n",
    "            c_id = 'id_%s_%04d' % (selected_idx, i)\n",
    "            out_obj_list += [html.Button('Hey %04d' % (i), id = c_id) ]\n",
    "            in_dep_obj += [Input(component_id=c_id, component_property='n_clicks')]\n",
    "        test_dash_app.callback(out_dep_obj, in_dep_obj)(fancy_button_adder)\n",
    "        return out_obj_list\n",
    "#test_dash_app.config['suppress_callback_exceptions']=True            "
   ]
  },
  {
   "cell_type": "code",
   "execution_count": null,
   "metadata": {},
   "outputs": [],
   "source": [
    "show_app(test_dash_app)"
   ]
  },
  {
   "cell_type": "code",
   "execution_count": null,
   "metadata": {},
   "outputs": [],
   "source": [
    "\n",
    "test_dash_app = dash.Dash(__name__, url_base_pathname='/', csrf_protect=False)\n",
    "test_dash_app.layout = html.Div([dcc.RadioItems(id='item_list', \n",
    "                                                options = [dict(label = k, value = k) for k in ['Hey', 'Bob']]), \n",
    "                                 html.Div(id='button_list'),\n",
    "                                 dcc.Location(id='url', refresh=False),\n",
    "                                html.Div('No Clicks', id = 'click_msg')])\n",
    "@test_dash_app.callback(\n",
    "    Output(component_id='button_list', component_property='children'),\n",
    "    [Input(component_id='item_list', component_property='value')]\n",
    ")\n",
    "def update_button_list(selected_idx):\n",
    "    if selected_idx is not None:\n",
    "        return [html.Div([html.Br(), \n",
    "                          dcc.Link('Hey %04d' % (i), \n",
    "                                   href = 'id_%s_%04d' % (selected_idx, i),\n",
    "                                  style = {'color': '#1EAEDB', 'text-decoration': 'underline',\n",
    "                                           'cursor': 'pointer'})]) for i in range(4)]\n",
    "\n",
    "@test_dash_app.callback(\n",
    "    Output(component_id='click_msg', component_property='children'),\n",
    "    [Input(component_id='url', component_property='pathname')]\n",
    ")\n",
    "def update_click_msg(in_url):\n",
    "    if in_url != '/':\n",
    "        p_url = in_url.split('/')[-1]\n",
    "        return p_url\n",
    "    else:\n",
    "        return 'No Clicks'"
   ]
  },
  {
   "cell_type": "code",
   "execution_count": null,
   "metadata": {},
   "outputs": [],
   "source": [
    "show_app(test_dash_app)"
   ]
  },
  {
   "cell_type": "code",
   "execution_count": null,
   "metadata": {},
   "outputs": [],
   "source": []
  }
 ],
 "metadata": {
  "kernelspec": {
   "display_name": "Python 3",
   "language": "python",
   "name": "python3"
  },
  "language_info": {
   "codemirror_mode": {
    "name": "ipython",
    "version": 3
   },
   "file_extension": ".py",
   "mimetype": "text/x-python",
   "name": "python",
   "nbconvert_exporter": "python",
   "pygments_lexer": "ipython3",
   "version": "3.6.4"
  }
 },
 "nbformat": 4,
 "nbformat_minor": 2
}
