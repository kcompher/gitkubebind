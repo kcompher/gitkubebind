{
 "cells": [
  {
   "cell_type": "code",
   "execution_count": 2,
   "metadata": {},
   "outputs": [],
   "source": [
    "from IPython import display\n",
    "import os\n",
    "def show_app(app, port = 9999, \n",
    "             width = 700, \n",
    "             height = 350, \n",
    "             offline = False,\n",
    "            in_binder = None):\n",
    "    in_binder ='JUPYTERHUB_SERVICE_PREFIX' in os.environ if in_binder is None else in_binder\n",
    "    if in_binder:\n",
    "        base_prefix = '{}proxy/{}/'.format(os.environ['JUPYTERHUB_SERVICE_PREFIX'], port)\n",
    "        url = 'https://hub.mybinder.org{}'.format(base_prefix)\n",
    "        app.config.requests_pathname_prefix = base_prefix\n",
    "    else:\n",
    "        url = 'http://localhost:%d' % port\n",
    "        \n",
    "    iframe = '<a href=\"{url}\" target=\"_new\">Open in new window</a><hr><iframe src=\"{url}\" width={width} height={height}></iframe>'.format(url = url, \n",
    "                                                                                  width = width, \n",
    "                                                                                  height = height)\n",
    "    \n",
    "    display.display_html(iframe, raw = True)\n",
    "    if offline:\n",
    "        app.css.config.serve_locally = True\n",
    "        app.scripts.config.serve_locally = True\n",
    "    return app.run_server(debug=False, # needs to be false in Jupyter\n",
    "                          host = '0.0.0.0',\n",
    "                          port=port)"
   ]
  },
  {
   "cell_type": "code",
   "execution_count": 3,
   "metadata": {},
   "outputs": [],
   "source": [
    "import dash\n",
    "import dash_core_components as dcc\n",
    "import dash_html_components as html\n",
    "from dash.dependencies import Input, Output\n",
    "import dash_dangerously_set_inner_html\n",
    "import pandas as pd\n",
    "\n",
    "app = dash.Dash('')\n",
    "\n",
    "app.scripts.config.serve_locally = False\n",
    "\n",
    "app.layout = html.Div([\n",
    "    dash_dangerously_set_inner_html.DangerouslySetInnerHTML('''\n",
    "        <h1><blink>Raw</blink> HTML! (dash aint got no blink tag)</h1>\n",
    "    '''),\n",
    "    dcc.Input(id='my-id', value='initial value', type=\"text\"),\n",
    "    html.H4('Use Pandas HTML Export!'),\n",
    "    html.Div(id='my-div')\n",
    "])\n",
    "\n",
    "@app.callback(\n",
    "    Output(component_id='my-div', component_property='children'),\n",
    "    [Input(component_id='my-id', component_property='value')]\n",
    ")\n",
    "def update_output_div(input_value):\n",
    "    html_table = pd.DataFrame([dict(letter = i) for i in input_value]).to_html()\n",
    "    return dash_dangerously_set_inner_html.DangerouslySetInnerHTML(html_table)"
   ]
  },
  {
   "cell_type": "code",
   "execution_count": null,
   "metadata": {
    "scrolled": true
   },
   "outputs": [
    {
     "data": {
      "text/html": [
       "<a href=\"http://localhost:9999\" target=\"_new\">Open in new window</a><hr><iframe src=\"http://localhost:9999\" width=700 height=350></iframe>"
      ]
     },
     "metadata": {},
     "output_type": "display_data"
    },
    {
     "name": "stdout",
     "output_type": "stream",
     "text": [
      " * Serving Flask app \"\" (lazy loading)\n",
      " * Environment: production\n",
      "   WARNING: Do not use the development server in a production environment.\n",
      "   Use a production WSGI server instead.\n",
      " * Debug mode: off\n"
     ]
    },
    {
     "name": "stderr",
     "output_type": "stream",
     "text": [
      " * Running on http://0.0.0.0:9999/ (Press CTRL+C to quit)\n",
      "127.0.0.1 - - [30/Aug/2018 11:51:07] \"GET /?1535644267006 HTTP/1.1\" 200 -\n",
      "127.0.0.1 - - [30/Aug/2018 11:51:07] \"GET /_dash-dependencies HTTP/1.1\" 200 -\n",
      "127.0.0.1 - - [30/Aug/2018 11:51:07] \"GET /_dash-layout HTTP/1.1\" 200 -\n",
      "127.0.0.1 - - [30/Aug/2018 11:51:07] \"POST /_dash-update-component HTTP/1.1\" 200 -\n",
      "127.0.0.1 - - [30/Aug/2018 11:51:16] \"GET / HTTP/1.1\" 200 -\n",
      "127.0.0.1 - - [30/Aug/2018 11:51:16] \"GET /_dash-layout HTTP/1.1\" 200 -\n",
      "127.0.0.1 - - [30/Aug/2018 11:51:16] \"GET /_dash-dependencies HTTP/1.1\" 200 -\n",
      "127.0.0.1 - - [30/Aug/2018 11:51:16] \"POST /_dash-update-component HTTP/1.1\" 200 -\n",
      "127.0.0.1 - - [30/Aug/2018 11:51:16] \"GET /favicon.ico HTTP/1.1\" 200 -\n",
      "127.0.0.1 - - [30/Aug/2018 11:51:50] \"GET /?1535644310307 HTTP/1.1\" 200 -\n",
      "127.0.0.1 - - [30/Aug/2018 11:51:50] \"GET /_dash-layout HTTP/1.1\" 200 -\n",
      "127.0.0.1 - - [30/Aug/2018 11:51:50] \"GET /_dash-dependencies HTTP/1.1\" 200 -\n",
      "127.0.0.1 - - [30/Aug/2018 11:51:50] \"POST /_dash-update-component HTTP/1.1\" 200 -\n",
      "127.0.0.1 - - [30/Aug/2018 11:51:58] \"GET / HTTP/1.1\" 200 -\n",
      "127.0.0.1 - - [30/Aug/2018 11:51:58] \"GET /_dash-layout HTTP/1.1\" 200 -\n",
      "127.0.0.1 - - [30/Aug/2018 11:51:58] \"GET /_dash-dependencies HTTP/1.1\" 200 -\n",
      "127.0.0.1 - - [30/Aug/2018 11:51:58] \"POST /_dash-update-component HTTP/1.1\" 200 -\n",
      "127.0.0.1 - - [30/Aug/2018 11:51:58] \"GET /favicon.ico HTTP/1.1\" 200 -\n",
      "127.0.0.1 - - [30/Aug/2018 11:52:11] \"GET /?1535644330987 HTTP/1.1\" 200 -\n",
      "127.0.0.1 - - [30/Aug/2018 11:52:11] \"GET /_dash-layout HTTP/1.1\" 200 -\n",
      "127.0.0.1 - - [30/Aug/2018 11:52:11] \"GET /_dash-dependencies HTTP/1.1\" 200 -\n",
      "127.0.0.1 - - [30/Aug/2018 11:52:11] \"POST /_dash-update-component HTTP/1.1\" 200 -\n",
      "127.0.0.1 - - [30/Aug/2018 11:52:23] \"GET /?1535644343636 HTTP/1.1\" 200 -\n",
      "127.0.0.1 - - [30/Aug/2018 11:52:23] \"GET /_dash-layout HTTP/1.1\" 200 -\n",
      "127.0.0.1 - - [30/Aug/2018 11:52:23] \"GET /_dash-dependencies HTTP/1.1\" 200 -\n",
      "127.0.0.1 - - [30/Aug/2018 11:52:23] \"POST /_dash-update-component HTTP/1.1\" 200 -\n",
      "127.0.0.1 - - [30/Aug/2018 11:52:28] \"GET / HTTP/1.1\" 200 -\n",
      "127.0.0.1 - - [30/Aug/2018 11:52:28] \"GET /_dash-layout HTTP/1.1\" 200 -\n",
      "127.0.0.1 - - [30/Aug/2018 11:52:28] \"GET /_dash-dependencies HTTP/1.1\" 200 -\n",
      "127.0.0.1 - - [30/Aug/2018 11:52:28] \"POST /_dash-update-component HTTP/1.1\" 200 -\n",
      "127.0.0.1 - - [30/Aug/2018 11:52:28] \"GET /favicon.ico HTTP/1.1\" 200 -\n",
      "127.0.0.1 - - [30/Aug/2018 11:52:42] \"GET /?1535644362089 HTTP/1.1\" 200 -\n",
      "127.0.0.1 - - [30/Aug/2018 11:52:42] \"GET /_dash-layout HTTP/1.1\" 200 -\n",
      "127.0.0.1 - - [30/Aug/2018 11:52:42] \"GET /_dash-dependencies HTTP/1.1\" 200 -\n",
      "127.0.0.1 - - [30/Aug/2018 11:52:42] \"POST /_dash-update-component HTTP/1.1\" 200 -\n",
      "127.0.0.1 - - [30/Aug/2018 11:52:43] \"GET /?1535644363644 HTTP/1.1\" 200 -\n",
      "127.0.0.1 - - [30/Aug/2018 11:52:43] \"GET /_dash-layout HTTP/1.1\" 200 -\n",
      "127.0.0.1 - - [30/Aug/2018 11:52:43] \"GET /_dash-dependencies HTTP/1.1\" 200 -\n",
      "127.0.0.1 - - [30/Aug/2018 11:52:43] \"POST /_dash-update-component HTTP/1.1\" 200 -\n",
      "127.0.0.1 - - [30/Aug/2018 11:52:49] \"GET / HTTP/1.1\" 200 -\n",
      "127.0.0.1 - - [30/Aug/2018 11:52:49] \"GET /_dash-layout HTTP/1.1\" 200 -\n",
      "127.0.0.1 - - [30/Aug/2018 11:52:49] \"GET /_dash-dependencies HTTP/1.1\" 200 -\n",
      "127.0.0.1 - - [30/Aug/2018 11:52:49] \"POST /_dash-update-component HTTP/1.1\" 200 -\n",
      "127.0.0.1 - - [30/Aug/2018 11:52:49] \"GET /favicon.ico HTTP/1.1\" 200 -\n",
      "127.0.0.1 - - [30/Aug/2018 11:52:56] \"GET / HTTP/1.1\" 200 -\n",
      "127.0.0.1 - - [30/Aug/2018 11:52:56] \"GET /_dash-layout HTTP/1.1\" 200 -\n",
      "127.0.0.1 - - [30/Aug/2018 11:52:56] \"GET /_dash-dependencies HTTP/1.1\" 200 -\n",
      "127.0.0.1 - - [30/Aug/2018 11:52:56] \"POST /_dash-update-component HTTP/1.1\" 200 -\n",
      "127.0.0.1 - - [30/Aug/2018 11:52:56] \"GET /favicon.ico HTTP/1.1\" 200 -\n",
      "127.0.0.1 - - [30/Aug/2018 13:32:50] \"GET /?1535650370101 HTTP/1.1\" 200 -\n",
      "127.0.0.1 - - [30/Aug/2018 13:32:50] \"GET /?1535650370306 HTTP/1.1\" 200 -\n",
      "127.0.0.1 - - [30/Aug/2018 13:32:50] \"GET /?1535650370306 HTTP/1.1\" 200 -\n",
      "127.0.0.1 - - [30/Aug/2018 13:32:50] \"GET /?1535650370307 HTTP/1.1\" 200 -\n",
      "127.0.0.1 - - [30/Aug/2018 13:32:50] \"GET /?1535650370307 HTTP/1.1\" 200 -\n",
      "127.0.0.1 - - [30/Aug/2018 13:32:51] \"GET /_dash-layout HTTP/1.1\" 200 -\n",
      "127.0.0.1 - - [30/Aug/2018 13:32:51] \"GET /_dash-dependencies HTTP/1.1\" 200 -\n",
      "127.0.0.1 - - [30/Aug/2018 13:32:51] \"GET /_dash-layout HTTP/1.1\" 200 -\n",
      "127.0.0.1 - - [30/Aug/2018 13:32:51] \"GET /_dash-dependencies HTTP/1.1\" 200 -\n",
      "127.0.0.1 - - [30/Aug/2018 13:32:51] \"GET /_dash-layout HTTP/1.1\" 200 -\n",
      "127.0.0.1 - - [30/Aug/2018 13:32:51] \"GET /_dash-dependencies HTTP/1.1\" 200 -\n",
      "127.0.0.1 - - [30/Aug/2018 13:32:51] \"GET /_dash-dependencies HTTP/1.1\" 200 -\n",
      "127.0.0.1 - - [30/Aug/2018 13:32:51] \"GET /_dash-layout HTTP/1.1\" 200 -\n",
      "127.0.0.1 - - [30/Aug/2018 13:32:52] \"GET /_dash-layout HTTP/1.1\" 200 -\n",
      "127.0.0.1 - - [30/Aug/2018 13:32:52] \"GET /_dash-dependencies HTTP/1.1\" 200 -\n",
      "127.0.0.1 - - [30/Aug/2018 13:32:52] \"POST /_dash-update-component HTTP/1.1\" 200 -\n",
      "127.0.0.1 - - [30/Aug/2018 13:32:52] \"POST /_dash-update-component HTTP/1.1\" 200 -\n",
      "127.0.0.1 - - [30/Aug/2018 13:32:52] \"POST /_dash-update-component HTTP/1.1\" 200 -\n",
      "127.0.0.1 - - [30/Aug/2018 13:32:52] \"POST /_dash-update-component HTTP/1.1\" 200 -\n",
      "127.0.0.1 - - [30/Aug/2018 13:32:52] \"POST /_dash-update-component HTTP/1.1\" 200 -\n"
     ]
    }
   ],
   "source": [
    "show_app(app)"
   ]
  },
  {
   "cell_type": "code",
   "execution_count": null,
   "metadata": {},
   "outputs": [],
   "source": []
  }
 ],
 "metadata": {
  "kernelspec": {
   "display_name": "Python [conda env:dash-web-trader]",
   "language": "python",
   "name": "conda-env-dash-web-trader-py"
  },
  "language_info": {
   "codemirror_mode": {
    "name": "ipython",
    "version": 3
   },
   "file_extension": ".py",
   "mimetype": "text/x-python",
   "name": "python",
   "nbconvert_exporter": "python",
   "pygments_lexer": "ipython3",
   "version": "3.6.6"
  }
 },
 "nbformat": 4,
 "nbformat_minor": 2
}
