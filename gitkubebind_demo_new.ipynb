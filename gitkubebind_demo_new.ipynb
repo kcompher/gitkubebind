{
 "cells": [
  {
   "cell_type": "markdown",
   "metadata": {
    "slideshow": {
     "slide_type": "slide"
    }
   },
   "source": [
    "# gitkubebind\n",
    "demo on why i like gitlab, kubernetes, jupyter and binder \n",
    "\n"
   ]
  },
  {
   "cell_type": "markdown",
   "metadata": {
    "slideshow": {
     "slide_type": "slide"
    }
   },
   "source": [
    "## How amazing is this technology! \n",
    "Let me explain why I love DEVOPs/DATAOPs integrations with gitkubebind\n",
    "\n",
    "\n",
    "## Why Binder?\n",
    "Binder allows you to create custom computing environments that can be shared and used by many remote users.\n",
    "It is powered by BinderHub, which is an open-source tool that deploys the Binder service in the cloud.\n",
    "\n",
    "## Why Kube?\n",
    "Kubernetes is an open-source system for automating deployment, scaling, and management of containerized applications.\n",
    "It groups containers that make up an application into logical units for easy management and discovery. Kubernetes builds upon 15 years of experience of running production workloads at Google, combined with best-of-breed ideas and practices from the community.\n",
    "\n",
    "## Why Gitlab?\n",
    "GitLab is the leading integrated product for modern software development. Connecting issue management, version control, code review, CI, CD, and monitoring.. Oh & it has awesome integrations with Kube"
   ]
  },
  {
   "cell_type": "markdown",
   "metadata": {
    "slideshow": {
     "slide_type": "slide"
    }
   },
   "source": [
    "\n",
    "\n",
    "# Let's start with some examples of what we want to do with Binder\n",
    "\n",
    "## Share computing environments\n",
    "- [Deploy a reproducible R Studio session for a data scientist to do new work in](https://mybinder.org/v2/gh/binder-examples/r/master?urlpath=rstudio) - is a mirror from this [repo](https://github.com/binder-examples/r)\n",
    "  - Can on demand RStudio served via binder effectivity replace a standing RStudio server?\n",
    "- [Deploy a reproducible Jupyter session for a data scientist to do new work in](https://mybinder.org/v2/gh/binder-examples/r/master?filepath=index.ipynb)\n",
    "- [Use the latest version of jupyterlab without installing a thing](https://mybinder.org/v2/gh/jupyterlab/jupyterlab-demo/0b0bb42e3e43ee2ebe1c0424d3a88a9b9edcd055?urlpath=lab%2Ftree%2Fdemo%2FLorenz.ipynb)"
   ]
  },
  {
   "cell_type": "markdown",
   "metadata": {
    "slideshow": {
     "slide_type": "slide"
    }
   },
   "source": [
    "## Share reproducible research\n",
    "- [Let's share some research](https://mybinder.org/v2/gh/dtak/rrr/master?urlpath=lab)\n",
    "\n",
    "## Deploy apps\n",
    "- [Deploy an R Shiney app](https://mybinder.org/v2/gh/binder-examples/r/master?urlpath=shiny/bus-dashboard/)\n",
    "- [How about scaling an app already written in jupyter notebooks... checkout appmode](https://mybinder.org/v2/gh/binder-examples/appmode/master?urlpath=apps%2Findex.ipynb)\n",
    "- [Deploy a bokeh dashboard](https://mybinder.org/v2/gh/binder-examples/bokeh/master?urlpath=/proxy/5006/bokeh-app)\n",
    "\n",
    "### To Do\n",
    "- [Deploy a Dash app](https://github.com/kcompher/DashIntro)\n",
    "- [drawio & rise presentations](http://mybinder.org/v2/gh/binder-examples/jupyter-rise/master?filepath=index.ipynb)\n"
   ]
  },
  {
   "cell_type": "markdown",
   "metadata": {},
   "source": [
    "## Dash apps\n",
    "\n",
    "\n",
    "\n",
    "\n"
   ]
  },
  {
   "cell_type": "markdown",
   "metadata": {},
   "source": [
    "\n",
    "- [HTML](https://mybinder.org/v2/gh/kcompher/gitkubebind/master?filepath=dashy%2Fnotebooks%2FRawHTML.ipynb)\n",
    "\n",
    "\n"
   ]
  },
  {
   "cell_type": "markdown",
   "metadata": {
    "slideshow": {
     "slide_type": "slide"
    }
   },
   "source": [
    "# What dependencies does a binder user need?\n",
    "- Binderhub API\n",
    "- python, R, js repos?\n",
    "- container registry\n",
    "- gitlab or github\n",
    "\n",
    "## Other caveats\n",
    "- those dependencies\n",
    "- is it really as easy as adding a requirement.txt or is there yet another markup they need to know?\n",
    "\n",
    "\n",
    "# What would be needed to run disconnected Binder in the enterprise?\n",
    "- internal Container Registry (served in gitlab)\n",
    "- other internal Repos?\n",
    "- internal kube cluster \n",
    "- awesome developer/integrator (...**MEGA-MIDAS team!**)\n"
   ]
  },
  {
   "cell_type": "markdown",
   "metadata": {
    "slideshow": {
     "slide_type": "slide"
    }
   },
   "source": [
    "## When binder can't do it for analytic users... what do developers do?\n",
    "- deploy with kubernetes\n",
    "\n",
    "## will Gitlab's interface to kubernetes work for developers? \n",
    "- Admin configures kubernetes environments in Gitlab, developer pushes code to environment through Gitlab runner CICD.\n",
    "- Does this work, or do they need more control?\n"
   ]
  },
  {
   "cell_type": "markdown",
   "metadata": {
    "slideshow": {
     "slide_type": "slide"
    }
   },
   "source": [
    "# Gitlab details\n",
    "\n",
    "**Send Kevin a note to get access to the project with Kubernetes**\n",
    "\n",
    "- [Container Registry Config](https://gitlab.com/binderer/jlab-test/container_registry)\n",
    "   - Governing containers, their artifacts, library dependencies. Could artifacts be managed, integrated with planned, hosted conda repo?\n",
    "- [Setting up kube in gitlab](https://gitlab.com/binderer/jlab-test/clusters)\n",
    "   - Helm, tiller, ingress and gitlab runner would be developer interfaces\n",
    "   - Jupyterlab now canned support\n",
    "- [Setting up environment scopes](https://gitlab.com/binderer/jlab-test/environments)\n",
    "   - Environments can be defined (dev, test, prod OR (small, large, larger) Kubernetes could be defined to each environment.\n",
    "   \n"
   ]
  },
  {
   "cell_type": "code",
   "execution_count": 3,
   "metadata": {
    "slideshow": {
     "slide_type": "skip"
    }
   },
   "outputs": [
    {
     "name": "stderr",
     "output_type": "stream",
     "text": [
      "[NbConvertApp] WARNING | pattern ',' matched no files\n",
      "[NbConvertApp] Converting notebook gitkubebind_demo.ipynb to slides\n",
      "[NbConvertApp] Writing 261499 bytes to gitkubebind_demo.slides.html\n"
     ]
    }
   ],
   "source": [
    "\n",
    "%%sh\n",
    "# Write out to slides & pdf\n",
    "jupyter nbconvert --to slides gitkubebind_demo.ipynb --reveal-prefix=dep/reveal.js --SlidesExporter.reveal_scroll=True , --SlidesExporter.reveal_theme=sky\n",
    "#jupyter nbconvert gitkubebind_demo.ipynb --to pdf # requires texlive\n"
   ]
  },
  {
   "cell_type": "code",
   "execution_count": null,
   "metadata": {
    "slideshow": {
     "slide_type": "skip"
    }
   },
   "outputs": [],
   "source": []
  }
 ],
 "metadata": {
  "celltoolbar": "Slideshow",
  "hide_input": false,
  "kernelspec": {
   "display_name": "Python [conda root]",
   "language": "python",
   "name": "conda-root-py"
  },
  "language_info": {
   "codemirror_mode": {
    "name": "ipython",
    "version": 3
   },
   "file_extension": ".py",
   "mimetype": "text/x-python",
   "name": "python",
   "nbconvert_exporter": "python",
   "pygments_lexer": "ipython3",
   "version": "3.6.5"
  },
  "latex_envs": {
   "LaTeX_envs_menu_present": true,
   "autoclose": false,
   "autocomplete": true,
   "bibliofile": "biblio.bib",
   "cite_by": "apalike",
   "current_citInitial": 1,
   "eqLabelWithNumbers": true,
   "eqNumInitial": 1,
   "hotkeys": {
    "equation": "Ctrl-E",
    "itemize": "Ctrl-I"
   },
   "labels_anchors": false,
   "latex_user_defs": false,
   "report_style_numbering": false,
   "user_envs_cfg": false
  },
  "livereveal": {
   "auto_select": "code",
   "auto_select_fragment": true,
   "autolaunch": true,
   "height": 768,
   "leap_motion": {
    "naturalSwipe": true,
    "pointerColor": "#d80000",
    "pointerOpacity": 0.5
   },
   "scroll": true,
   "start_slideshow_at": "selected",
   "theme": "sky",
   "transition": "zoom",
   "width": 1024
  },
  "toc": {
   "nav_menu": {},
   "number_sections": true,
   "sideBar": true,
   "skip_h1_title": false,
   "title_cell": "Table of Contents",
   "title_sidebar": "Contents",
   "toc_cell": true,
   "toc_position": {
    "height": "calc(100% - 180px)",
    "left": "10px",
    "top": "150px",
    "width": "166px"
   },
   "toc_section_display": true,
   "toc_window_display": false
  }
 },
 "nbformat": 4,
 "nbformat_minor": 2
}
